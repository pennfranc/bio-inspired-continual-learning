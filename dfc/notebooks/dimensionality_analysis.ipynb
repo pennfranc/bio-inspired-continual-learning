{
 "cells": [
  {
   "cell_type": "code",
   "execution_count": 7,
   "id": "a971c58f",
   "metadata": {},
   "outputs": [
    {
     "name": "stdout",
     "output_type": "stream",
     "text": [
      "The autoreload extension is already loaded. To reload it, use:\n",
      "  %reload_ext autoreload\n"
     ]
    }
   ],
   "source": [
    "import numpy as np\n",
    "import pandas as pd\n",
    "from sklearn.decomposition import PCA\n",
    "import matplotlib\n",
    "import matplotlib.pyplot as plt\n",
    "import seaborn as sns\n",
    "import matplotlib.image as mpimg\n",
    "from scipy import stats\n",
    "from itertools import cycle\n",
    "from activation_utils import *\n",
    "\n",
    "matplotlib.rcParams[\"figure.dpi\"] = 100\n",
    "\n",
    "%load_ext autoreload\n",
    "%autoreload 2"
   ]
  },
  {
   "cell_type": "code",
   "execution_count": 8,
   "id": "983f05e3",
   "metadata": {},
   "outputs": [],
   "source": [
    "FIG_SIZE = (6,4)\n",
    "FIG_DIR = 'final-figures/'\n",
    "FONTSIZE = 13\n",
    "lr = 1e-3"
   ]
  },
  {
   "cell_type": "markdown",
   "id": "d3e986db",
   "metadata": {},
   "source": [
    "### Compute effective rank metrics"
   ]
  },
  {
   "cell_type": "code",
   "execution_count": 9,
   "id": "fiscal-handy",
   "metadata": {},
   "outputs": [
    {
     "name": "stdout",
     "output_type": "stream",
     "text": [
      "dfc-rec -controller\n",
      "dfc-sparse -controller\n",
      "dfc-sparse-rec -controller\n"
     ]
    }
   ],
   "source": [
    "### fraction of effective rank of untouched subspace of previous task over total effective rank\n",
    "### of previous tasks subspace\n",
    "results_untouched_frac = compute_dim_across_tasks(lr,\n",
    "                      1,\n",
    "                      ['dfc-rec', 'dfc-sparse', 'dfc-sparse-rec'],\n",
    "                      ['-controller', '-controller', '-controller'],\n",
    "                      mode='across_task_first_learned',\n",
    "                      accumulate_activations=False,\n",
    "                      untouched_frac=True)"
   ]
  },
  {
   "cell_type": "code",
   "execution_count": 10,
   "id": "statistical-payment",
   "metadata": {},
   "outputs": [
    {
     "name": "stdout",
     "output_type": "stream",
     "text": [
      "dfc-rec -controller\n",
      "dfc-sparse -controller\n",
      "dfc-sparse-rec -controller\n"
     ]
    }
   ],
   "source": [
    "### effective rank of most recently learned task targets\n",
    "results_curr = compute_dim_across_tasks(lr,\n",
    "                      1,\n",
    "                      ['dfc-rec', 'dfc-sparse', 'dfc-sparse-rec'],\n",
    "                      ['-controller', '-controller', '-controller'],\n",
    "                      mode='across_task_first_learned',\n",
    "                      accumulate_activations=False,\n",
    "                      untouched_frac=False)"
   ]
  },
  {
   "cell_type": "code",
   "execution_count": 11,
   "id": "a8bb573d",
   "metadata": {},
   "outputs": [],
   "source": [
    "### Plot effective rank metrics"
   ]
  },
  {
   "cell_type": "code",
   "execution_count": 12,
   "id": "subjective-english",
   "metadata": {},
   "outputs": [
    {
     "data": {
      "image/png": "[encoded data removed]",
      "text/plain": [
       "<Figure size 600x400 with 2 Axes>"
      ]
     },
     "metadata": {},
     "output_type": "display_data"
    }
   ],
   "source": [
    "plt.rcParams[\"figure.figsize\"] = (6, 4)\n",
    "\n",
    "untouched_frac_means = []\n",
    "untouched_frac_stds = []\n",
    "curr_dim_means = []\n",
    "curr_dim_stds = []\n",
    "width = 0.5\n",
    "names = ['dfc-rec', 'dfc-sparse', 'dfc-sparse-rec']\n",
    "for name in names:\n",
    "    untouched_frac_means.append(results_untouched_frac[name][1:].mean())\n",
    "    untouched_frac_stds.append(results_untouched_frac[name][1:].std())\n",
    "    curr_dim_means.append(results_curr[name].mean())\n",
    "    curr_dim_stds.append(results_curr[name].std())\n",
    "fig, ax = plt.subplots(nrows=1, ncols=2)\n",
    "\n",
    "fig.patch.set_facecolor('white')\n",
    "\n",
    "barlists = []\n",
    "\n",
    "\n",
    "barlist = ax[0].bar(range(len(names)), curr_dim_means, width, yerr=curr_dim_stds, label='effective dim', capsize=5, color='silver')\n",
    "ax[0].set_ylabel('Effective dimensionality', fontsize=FONTSIZE)\n",
    "\n",
    "\n",
    "barlist = ax[1].bar(range(len(names)), untouched_frac_means, width, yerr=untouched_frac_stds,\n",
    "                    label='untouched frac', capsize=5, color=[np.array([251, 202, 202]) / 255])\n",
    "ax[1].set_ylabel('Untouched dim. fraction', fontsize=FONTSIZE)\n",
    "ax[1].set_ylim(0, None)\n",
    "\n",
    "label_names = ['rec', 'sparse', 'sparse\\n-rec']\n",
    "ax[0].set_xticks(range(len(names)), label_names, fontsize=FONTSIZE)\n",
    "ax[1].set_xticks(range(len(names)), label_names, fontsize=FONTSIZE)\n",
    "ax[0].tick_params(axis='both', which='major', labelsize=FONTSIZE)\n",
    "ax[1].tick_params(axis='both', which='major', labelsize=FONTSIZE)\n",
    "fig.tight_layout(pad=2.0)\n",
    "plt.savefig(f'{FIG_DIR}target-dimensionality-classIL.svg', format='svg', bbox_inches = \"tight\")"
   ]
  }
 ],
 "metadata": {
  "kernelspec": {
   "display_name": "Python 3 (ipykernel)",
   "language": "python",
   "name": "python3"
  },
  "language_info": {
   "codemirror_mode": {
    "name": "ipython",
    "version": 3
   },
   "file_extension": ".py",
   "mimetype": "text/x-python",
   "name": "python",
   "nbconvert_exporter": "python",
   "pygments_lexer": "ipython3",
   "version": "3.9.13"
  }
 },
 "nbformat": 4,
 "nbformat_minor": 5
}
